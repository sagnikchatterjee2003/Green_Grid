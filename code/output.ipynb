{
 "cells": [
  {
   "cell_type": "code",
   "id": "initial_id",
   "metadata": {
    "collapsed": true,
    "ExecuteTime": {
     "end_time": "2025-06-16T16:23:53.732080Z",
     "start_time": "2025-06-16T16:23:53.703369Z"
    }
   },
   "source": "import mysql.connector as sql",
   "outputs": [],
   "execution_count": 1
  },
  {
   "metadata": {},
   "cell_type": "markdown",
   "source": "Setting up database connection",
   "id": "d820aaf71406b07a"
  },
  {
   "metadata": {
    "ExecuteTime": {
     "end_time": "2025-06-16T16:23:55.923040Z",
     "start_time": "2025-06-16T16:23:53.854373Z"
    }
   },
   "cell_type": "code",
   "source": [
    "mydb = sql.connect(\n",
    "    host=\"localhost\",\n",
    "    user=\"root\",\n",
    "    passwd=\"root\",\n",
    "    database=\"green-grid\",\n",
    "    port=\"3306\"\n",
    ")\n",
    "\n",
    "mycursor = mydb.cursor()"
   ],
   "id": "4402bc2643aa2874",
   "outputs": [],
   "execution_count": 2
  },
  {
   "metadata": {},
   "cell_type": "markdown",
   "source": "# Query 1: Peak hour usage per meter",
   "id": "db996d6737d659f2"
  },
  {
   "metadata": {
    "ExecuteTime": {
     "end_time": "2025-06-16T16:23:55.942949Z",
     "start_time": "2025-06-16T16:23:55.936396Z"
    }
   },
   "cell_type": "code",
   "source": [
    "mycursor.execute('''\n",
    "WITH ranked_usage AS (\n",
    "  SELECT\n",
    "    meter_id,\n",
    "    HOUR(reading_time) AS hour_of_day,\n",
    "    SUM(units_consumed) AS total_units,\n",
    "    ROW_NUMBER() OVER (PARTITION BY meter_id ORDER BY SUM(units_consumed) DESC) AS rn\n",
    "  FROM\n",
    "    consumption_logs\n",
    "  GROUP BY\n",
    "    meter_id, hour_of_day\n",
    ")\n",
    "SELECT\n",
    "  meter_id,\n",
    "  hour_of_day,\n",
    "  total_units\n",
    "FROM\n",
    "  ranked_usage\n",
    "WHERE\n",
    "  rn = 1;\n",
    "''')\n",
    "result = mycursor.fetchall()\n",
    "# Print the table contents\n",
    "print(\"PEAK HOUR USAGE PER METER:\")\n",
    "print(\" Meter_id | Hour_of_Day | Total_Units\")\n",
    "print(\"----------|-------------|-------------\")\n",
    "for row in result:\n",
    "    print(f\" {row[0]:<8} | {row[1]:<11} | {row[2]:<1}\")"
   ],
   "id": "e20771db4447415d",
   "outputs": [
    {
     "name": "stdout",
     "output_type": "stream",
     "text": [
      "PEAK HOUR USAGE PER METER:\n",
      " Meter_id | Hour_of_Day | Total_Units\n",
      "----------|-------------|-------------\n",
      " 1        | 18          | 394.70\n",
      " 2        | 8           | 428.52\n",
      " 3        | 23          | 369.80\n",
      " 4        | 0           | 442.21\n",
      " 5        | 17          | 387.65\n",
      " 6        | 6           | 474.05\n",
      " 7        | 18          | 488.68\n",
      " 8        | 2           | 789.42\n",
      " 9        | 9           | 422.94\n",
      " 10       | 14          | 494.21\n",
      " 11       | 12          | 282.96\n",
      " 12       | 17          | 382.45\n",
      " 13       | 19          | 445.97\n",
      " 14       | 3           | 485.82\n",
      " 15       | 12          | 368.28\n",
      " 16       | 7           | 598.33\n",
      " 17       | 10          | 333.66\n",
      " 18       | 10          | 419.82\n",
      " 19       | 6           | 435.41\n",
      " 20       | 17          | 337.25\n",
      " 21       | 7           | 453.80\n",
      " 22       | 17          | 424.12\n",
      " 23       | 3           | 753.15\n",
      " 24       | 8           | 469.27\n",
      " 25       | 15          | 391.14\n",
      " 26       | 8           | 228.73\n",
      " 27       | 11          | 420.03\n",
      " 28       | 1           | 440.10\n",
      " 29       | 3           | 477.59\n",
      " 30       | 18          | 419.87\n",
      " 31       | 21          | 467.70\n",
      " 32       | 17          | 441.50\n",
      " 33       | 4           | 456.86\n",
      " 34       | 0           | 463.38\n",
      " 35       | 21          | 414.52\n",
      " 36       | 15          | 756.40\n",
      " 37       | 16          | 410.79\n",
      " 38       | 21          | 412.24\n",
      " 39       | 4           | 441.22\n",
      " 40       | 23          | 486.59\n",
      " 41       | 12          | 434.22\n",
      " 42       | 10          | 344.23\n",
      " 43       | 4           | 466.16\n",
      " 44       | 22          | 463.58\n",
      " 45       | 11          | 324.23\n",
      " 46       | 14          | 434.03\n",
      " 47       | 2           | 435.38\n",
      " 48       | 13          | 340.62\n",
      " 49       | 11          | 667.80\n",
      " 50       | 5           | 427.29\n",
      " 51       | 23          | 476.09\n",
      " 52       | 18          | 177.11\n",
      " 53       | 19          | 518.75\n",
      " 54       | 1           | 474.75\n",
      " 55       | 7           | 410.13\n",
      " 56       | 10          | 491.01\n",
      " 57       | 6           | 423.84\n",
      " 58       | 2           | 354.74\n",
      " 59       | 13          | 486.01\n",
      " 60       | 20          | 474.11\n",
      " 61       | 19          | 335.24\n",
      " 62       | 9           | 267.81\n",
      " 63       | 5           | 179.34\n",
      " 64       | 19          | 357.38\n",
      " 65       | 5           | 411.51\n",
      " 66       | 23          | 189.66\n",
      " 67       | 8           | 466.67\n",
      " 68       | 15          | 445.95\n",
      " 69       | 4           | 465.60\n",
      " 70       | 14          | 331.52\n",
      " 71       | 8           | 382.52\n",
      " 72       | 0           | 468.04\n",
      " 73       | 20          | 458.93\n",
      " 74       | 17          | 416.11\n",
      " 75       | 4           | 461.68\n",
      " 76       | 14          | 120.16\n",
      " 77       | 0           | 281.21\n",
      " 78       | 10          | 684.71\n",
      " 79       | 17          | 494.23\n",
      " 80       | 22          | 483.03\n",
      " 81       | 9           | 113.88\n",
      " 82       | 15          | 386.14\n",
      " 83       | 17          | 402.29\n",
      " 84       | 12          | 349.46\n",
      " 85       | 6           | 310.63\n",
      " 86       | 22          | 266.65\n",
      " 87       | 20          | 432.60\n",
      " 88       | 8           | 540.20\n",
      " 89       | 18          | 412.00\n",
      " 90       | 12          | 709.68\n",
      " 91       | 5           | 627.97\n",
      " 92       | 23          | 467.95\n",
      " 93       | 11          | 251.15\n",
      " 94       | 4           | 448.81\n",
      " 95       | 16          | 624.63\n",
      " 96       | 12          | 295.85\n",
      " 97       | 22          | 429.62\n",
      " 98       | 18          | 260.44\n",
      " 99       | 13          | 343.35\n",
      " 100      | 2           | 450.84\n"
     ]
    }
   ],
   "execution_count": 3
  },
  {
   "metadata": {},
   "cell_type": "markdown",
   "source": "# Query 2: Zone-wise total energy consumed",
   "id": "ad7e5b70c6db9bf2"
  },
  {
   "metadata": {
    "ExecuteTime": {
     "end_time": "2025-06-16T16:23:55.972275Z",
     "start_time": "2025-06-16T16:23:55.966848Z"
    }
   },
   "cell_type": "code",
   "source": [
    "mycursor.execute('''\n",
    "SELECT\n",
    "    z.zone_id,\n",
    "    z.zone_name,\n",
    "    SUM(cl.units_consumed) AS total_units_consumed\n",
    "FROM\n",
    "    consumption_logs cl\n",
    "JOIN\n",
    "    meters m ON cl.meter_id = m.meter_id\n",
    "JOIN\n",
    "    customers c ON m.customer_id = c.customer_id\n",
    "JOIN\n",
    "    zones z ON c.zone_id = z.zone_id\n",
    "GROUP BY\n",
    "    z.zone_id, z.zone_name\n",
    "ORDER BY\n",
    "    z.zone_id ;\n",
    "''')\n",
    "result = mycursor.fetchall()\n",
    "# Print the table contents\n",
    "print(\"ZONE-WISE TOTAL ENERGY CONSUMED:\")\n",
    "print(\" Zone_id | Zone_Name | Total_Units_Consumed\")\n",
    "print(\"---------|-----------|----------------------\")\n",
    "for row in result:\n",
    "    print(f\" {row[0]:<7} | {row[1]:<9} | {row[2]:<1}\")"
   ],
   "id": "1812643d96c13bf0",
   "outputs": [
    {
     "name": "stdout",
     "output_type": "stream",
     "text": [
      "ZONE-WISE TOTAL ENERGY CONSUMED:\n",
      " Zone_id | Zone_Name | Total_Units_Consumed\n",
      "---------|-----------|----------------------\n",
      " 1       | Zone_1    | 9488.99\n",
      " 2       | Zone_2    | 21745.49\n",
      " 3       | Zone_3    | 15245.89\n",
      " 4       | Zone_4    | 19157.86\n",
      " 5       | Zone_5    | 15993.06\n"
     ]
    }
   ],
   "execution_count": 4
  },
  {
   "metadata": {},
   "cell_type": "markdown",
   "source": "# Query 3: Billing summaries per customer",
   "id": "7fd9406451220b78"
  },
  {
   "metadata": {
    "ExecuteTime": {
     "end_time": "2025-06-16T16:23:56.037547Z",
     "start_time": "2025-06-16T16:23:56.030352Z"
    }
   },
   "cell_type": "code",
   "source": [
    "mycursor.execute('''\n",
    "SELECT\n",
    "    c.customer_id,\n",
    "    c.customer_name,\n",
    "    COUNT(b.bill_id) AS total_bills,\n",
    "    SUM(b.amount) AS total_billed_amount,\n",
    "    SUM(CASE WHEN b.payment_status = 'unpaid' THEN 1 ELSE 0 END) AS unpaid_bills\n",
    "FROM\n",
    "    billing b\n",
    "JOIN\n",
    "    meters m ON b.meter_id = m.meter_id\n",
    "JOIN\n",
    "    customers c ON m.customer_id = c.customer_id\n",
    "GROUP BY\n",
    "    c.customer_id, c.customer_name\n",
    "ORDER BY\n",
    "    customer_id ;\n",
    "''')\n",
    "result = mycursor.fetchall()\n",
    "# Print the table contents\n",
    "print(\"Billing Summaries per Customer:\")\n",
    "print(\" Customer_id |       Customer_Name      | Total_Bills | Total_Billed_Amount | Unpaid_Bills\")\n",
    "print(\"-------------|--------------------------|-------------|---------------------|--------------\")\n",
    "for row in result:\n",
    "    print(f\" {row[0]:<11} | {row[1]:<24} | {row[2]:<12} | {row[3]:<19} | {row[4]:<10}\")"
   ],
   "id": "44d6153e44702989",
   "outputs": [
    {
     "name": "stdout",
     "output_type": "stream",
     "text": [
      "Billing Summaries per Customer:\n",
      " Customer_id |       Customer_Name      | Total_Bills | Total_Billed_Amount | Unpaid_Bills\n",
      "-------------|--------------------------|-------------|---------------------|--------------\n",
      " 1           | Michelle Morales         | 3            | 7923.28             | 2         \n",
      " 2           | Tanya Randall            | 3            | 3032.74             | 2         \n",
      " 3           | Alicia Saunders          | 3            | 5405.68             | 2         \n",
      " 4           | Heather Brown            | 3            | 5575.36             | 1         \n",
      " 5           | Richard Sanchez          | 3            | 6548.63             | 2         \n",
      " 6           | Whitney Kim              | 3            | 4385.41             | 1         \n",
      " 7           | Helen Ramirez            | 3            | 4723.01             | 1         \n",
      " 8           | Marc Gonzalez            | 3            | 7971.46             | 2         \n",
      " 9           | Nicholas Cruz            | 3            | 3698.30             | 2         \n",
      " 10          | John Brown               | 3            | 6402.56             | 1         \n",
      " 11          | Rachel Barry             | 3            | 4779.92             | 3         \n",
      " 12          | Meghan Valentine         | 3            | 3213.93             | 0         \n",
      " 13          | Darlene Chan             | 3            | 5701.72             | 1         \n",
      " 14          | Ian Bernard              | 3            | 4588.20             | 2         \n",
      " 15          | Evelyn Baker             | 3            | 5978.49             | 1         \n",
      " 16          | Sarah Mcguire            | 3            | 5566.72             | 2         \n",
      " 17          | Sandra Johnson           | 3            | 7450.26             | 1         \n",
      " 18          | Christopher Allen        | 3            | 6256.51             | 2         \n",
      " 19          | John Pierce              | 3            | 3730.42             | 1         \n",
      " 20          | Ruben Oconnor            | 3            | 4882.67             | 1         \n",
      " 21          | Margaret Horton          | 3            | 5886.89             | 1         \n",
      " 22          | Michael Blanchard        | 3            | 4046.29             | 1         \n",
      " 23          | Sandra Peterson          | 3            | 6876.53             | 2         \n",
      " 24          | Lisa Gutierrez           | 3            | 6121.12             | 2         \n",
      " 25          | Tyler Perez              | 3            | 4523.03             | 0         \n",
      " 26          | Ashley Henry             | 3            | 3145.34             | 3         \n",
      " 27          | Mrs. Laura Wallace       | 3            | 4966.21             | 2         \n",
      " 28          | Alyssa Nunez             | 3            | 4739.32             | 2         \n",
      " 29          | Dawn Austin              | 3            | 4938.96             | 1         \n",
      " 30          | Michael Adams            | 3            | 3608.87             | 0         \n",
      " 31          | Steven Keith             | 3            | 7503.02             | 1         \n",
      " 32          | Angel Cannon             | 3            | 4812.59             | 1         \n",
      " 33          | Sharon White             | 3            | 6917.79             | 1         \n",
      " 34          | Timothy Estes            | 3            | 6102.74             | 1         \n",
      " 35          | Paula Kemp               | 3            | 3934.73             | 2         \n",
      " 36          | Elizabeth Stephens       | 3            | 6585.66             | 2         \n",
      " 37          | Timothy Shields MD       | 3            | 4223.38             | 0         \n",
      " 38          | William Young            | 3            | 3782.34             | 3         \n",
      " 39          | Jocelyn Sullivan         | 3            | 5480.78             | 0         \n",
      " 40          | Lisa Fuller              | 3            | 4866.68             | 1         \n",
      " 41          | Robert Diaz              | 3            | 4337.74             | 3         \n",
      " 42          | Stephanie Hall           | 3            | 6465.52             | 1         \n",
      " 43          | Samuel Mitchell          | 3            | 4008.85             | 1         \n",
      " 44          | Alyssa Ramirez           | 3            | 5889.69             | 1         \n",
      " 45          | Carolyn White            | 3            | 4620.25             | 2         \n",
      " 46          | Danielle Webster         | 3            | 5015.45             | 1         \n",
      " 47          | Bobby Wilcox             | 3            | 6688.57             | 0         \n",
      " 48          | Kristin Hanson           | 3            | 3569.76             | 1         \n",
      " 49          | George Scott             | 3            | 4441.23             | 0         \n",
      " 50          | Jessica Reynolds         | 3            | 5521.76             | 0         \n",
      " 51          | Matthew Clark            | 3            | 4745.59             | 2         \n",
      " 52          | Andrea Brown             | 3            | 4582.29             | 1         \n",
      " 53          | Willie Ward              | 3            | 2758.31             | 1         \n",
      " 54          | Jacqueline Mccoy         | 3            | 5361.16             | 2         \n",
      " 55          | Jason Ortiz              | 3            | 3251.14             | 3         \n",
      " 56          | Sarah Herrera            | 3            | 3883.97             | 3         \n",
      " 57          | Jason Bird               | 3            | 5869.68             | 1         \n",
      " 58          | Mrs. Whitney Edwards DDS | 3            | 6594.15             | 3         \n",
      " 59          | David Jones              | 3            | 4847.84             | 1         \n",
      " 60          | Ashley Lee               | 3            | 4684.52             | 1         \n",
      " 61          | William Cooper           | 3            | 6567.36             | 1         \n",
      " 62          | Christina Thompson       | 3            | 5201.07             | 2         \n",
      " 63          | Benjamin Martin          | 3            | 7707.33             | 2         \n",
      " 64          | Tony Allen               | 3            | 3202.11             | 0         \n",
      " 65          | Taylor Smith             | 3            | 5397.14             | 1         \n",
      " 66          | Martin Andrade           | 3            | 4784.66             | 0         \n",
      " 67          | Anna Hall                | 3            | 5120.00             | 3         \n",
      " 68          | Donald Williams          | 3            | 5240.64             | 1         \n",
      " 69          | Walter Randolph          | 3            | 4214.38             | 2         \n",
      " 70          | Ryan Foster              | 3            | 5759.33             | 2         \n",
      " 71          | Frank Hall               | 3            | 7305.03             | 0         \n",
      " 72          | Steven Weaver            | 3            | 4336.63             | 0         \n",
      " 73          | Andrew Becker            | 3            | 5590.13             | 1         \n",
      " 74          | Amy Mason                | 3            | 4177.99             | 2         \n",
      " 75          | Robert Green             | 3            | 6179.84             | 2         \n",
      " 76          | Jennifer Lucas           | 3            | 2276.97             | 2         \n",
      " 77          | Elizabeth Garcia         | 3            | 6641.07             | 2         \n",
      " 78          | Alexander Davis          | 3            | 7929.59             | 2         \n",
      " 79          | Teresa Lee               | 3            | 5475.32             | 2         \n",
      " 80          | Jason Waller             | 3            | 4948.92             | 2         \n",
      " 81          | Brian Franklin           | 3            | 7215.84             | 3         \n",
      " 82          | Hailey Long              | 3            | 2686.66             | 1         \n",
      " 83          | Katie Garcia             | 3            | 5473.47             | 2         \n",
      " 84          | Denise Marsh             | 3            | 6855.18             | 0         \n",
      " 85          | Mark Ramsey              | 3            | 5984.66             | 2         \n",
      " 86          | Amy Kelley               | 3            | 5239.87             | 3         \n",
      " 87          | Rachel David             | 3            | 4610.86             | 2         \n",
      " 88          | David Rogers             | 3            | 6535.51             | 3         \n",
      " 89          | Jessica Lee              | 3            | 5245.87             | 1         \n",
      " 90          | Jennifer Weeks           | 3            | 6103.50             | 3         \n",
      " 91          | Joseph Smith             | 3            | 4068.71             | 0         \n",
      " 92          | Karen Thornton           | 3            | 3772.28             | 1         \n",
      " 93          | Melissa Yang             | 3            | 5467.86             | 0         \n",
      " 94          | Eric Garrison            | 3            | 7217.16             | 2         \n",
      " 95          | Michelle Ochoa           | 3            | 4947.85             | 3         \n",
      " 96          | Justin Cooper            | 3            | 5865.47             | 2         \n",
      " 97          | April Hull               | 3            | 7430.60             | 2         \n",
      " 98          | Rachel Howell            | 3            | 3969.20             | 2         \n",
      " 99          | James White              | 3            | 2640.39             | 0         \n",
      " 100         | Jennifer Walker          | 3            | 3514.94             | 2         \n"
     ]
    }
   ],
   "execution_count": 5
  },
  {
   "metadata": {},
   "cell_type": "markdown",
   "source": "Closing All Database Instances",
   "id": "c52d4a694e3bca46"
  },
  {
   "metadata": {
    "ExecuteTime": {
     "end_time": "2025-06-16T16:23:56.141706Z",
     "start_time": "2025-06-16T16:23:56.136815Z"
    }
   },
   "cell_type": "code",
   "source": [
    "mydb.close()\n",
    "mycursor.close()"
   ],
   "id": "2f29c4ef2d5f9ab7",
   "outputs": [
    {
     "data": {
      "text/plain": [
       "True"
      ]
     },
     "execution_count": 6,
     "metadata": {},
     "output_type": "execute_result"
    }
   ],
   "execution_count": 6
  }
 ],
 "metadata": {
  "kernelspec": {
   "display_name": "Python 3",
   "language": "python",
   "name": "python3"
  },
  "language_info": {
   "codemirror_mode": {
    "name": "ipython",
    "version": 2
   },
   "file_extension": ".py",
   "mimetype": "text/x-python",
   "name": "python",
   "nbconvert_exporter": "python",
   "pygments_lexer": "ipython2",
   "version": "2.7.6"
  }
 },
 "nbformat": 4,
 "nbformat_minor": 5
}
