{
 "cells": [
  {
   "cell_type": "code",
   "id": "initial_id",
   "metadata": {
    "collapsed": true,
    "ExecuteTime": {
     "end_time": "2025-06-17T10:11:11.917530Z",
     "start_time": "2025-06-17T10:11:11.908897Z"
    }
   },
   "source": [
    "import csv\n",
    "import json\n",
    "from tabulate import tabulate"
   ],
   "outputs": [],
   "execution_count": 1
  },
  {
   "metadata": {},
   "cell_type": "markdown",
   "source": "Path Initialization",
   "id": "38efd3fde80c124e"
  },
  {
   "metadata": {
    "ExecuteTime": {
     "end_time": "2025-06-17T10:11:11.924574Z",
     "start_time": "2025-06-17T10:11:11.921593Z"
    }
   },
   "cell_type": "code",
   "source": [
    "input_json = \"zone.json\"\n",
    "output_csv = \"zone.csv\""
   ],
   "id": "bc2d1a1f57838e95",
   "outputs": [],
   "execution_count": 2
  },
  {
   "metadata": {},
   "cell_type": "markdown",
   "source": "Reading JSON file",
   "id": "d5258ad38e068296"
  },
  {
   "metadata": {
    "ExecuteTime": {
     "end_time": "2025-06-17T10:11:12.074619Z",
     "start_time": "2025-06-17T10:11:12.070553Z"
    }
   },
   "cell_type": "code",
   "source": [
    "with open(input_json, mode='r', encoding='utf-8') as json_file:\n",
    "    data = json.load(json_file)"
   ],
   "id": "643c512384737977",
   "outputs": [],
   "execution_count": 3
  },
  {
   "metadata": {},
   "cell_type": "markdown",
   "source": "Writing the data into the CSV file",
   "id": "748e11b3f9d0353a"
  },
  {
   "metadata": {
    "ExecuteTime": {
     "end_time": "2025-06-17T10:11:12.085867Z",
     "start_time": "2025-06-17T10:11:12.081862Z"
    }
   },
   "cell_type": "code",
   "source": [
    "with open(output_csv, mode='w', encoding='utf-8', newline='') as csv_file:\n",
    "    # Define CSV fieldnames\n",
    "    fieldnames = ['zone_id', 'zone_name']\n",
    "\n",
    "    # Create CSV writer\n",
    "    writer = csv.DictWriter(csv_file, fieldnames=fieldnames)\n",
    "\n",
    "    # Write header\n",
    "    writer.writeheader()\n",
    "\n",
    "    # Write data rows\n",
    "    for item in data:\n",
    "        writer.writerow(item)"
   ],
   "id": "f40d7a05e6c6f7b",
   "outputs": [],
   "execution_count": 4
  },
  {
   "metadata": {
    "ExecuteTime": {
     "end_time": "2025-06-17T10:11:12.095438Z",
     "start_time": "2025-06-17T10:11:12.092277Z"
    }
   },
   "cell_type": "code",
   "source": "print(f\"Successfully converted\")",
   "id": "44efb5f15e07a0db",
   "outputs": [
    {
     "name": "stdout",
     "output_type": "stream",
     "text": [
      "Successfully converted\n"
     ]
    }
   ],
   "execution_count": 5
  },
  {
   "metadata": {},
   "cell_type": "markdown",
   "source": "Reading and the printing the CSV file",
   "id": "d6620582f8d3b0d9"
  },
  {
   "metadata": {
    "ExecuteTime": {
     "end_time": "2025-06-17T10:11:12.156255Z",
     "start_time": "2025-06-17T10:11:12.151643Z"
    }
   },
   "cell_type": "code",
   "source": [
    "with open(output_csv, mode='r', encoding='utf-8') as csv_file:\n",
    "    csv_reader = csv.reader(csv_file)\n",
    "    # Convert CSV rows to list for tabulate\n",
    "    table_data = list(csv_reader)\n",
    "    # Print using tabulate\n",
    "    print(\"\\nCSV Content in Tabular Format:\")\n",
    "    print(tabulate(table_data, headers='firstrow', tablefmt='grid'))"
   ],
   "id": "36536f0192edb1d7",
   "outputs": [
    {
     "name": "stdout",
     "output_type": "stream",
     "text": [
      "\n",
      "CSV Content in Tabular Format:\n",
      "+-----------+-------------+\n",
      "|   zone_id | zone_name   |\n",
      "+===========+=============+\n",
      "|         1 | Zone_1      |\n",
      "+-----------+-------------+\n",
      "|         2 | Zone_2      |\n",
      "+-----------+-------------+\n",
      "|         3 | Zone_3      |\n",
      "+-----------+-------------+\n",
      "|         4 | Zone_4      |\n",
      "+-----------+-------------+\n",
      "|         5 | Zone_5      |\n",
      "+-----------+-------------+\n"
     ]
    }
   ],
   "execution_count": 6
  }
 ],
 "metadata": {
  "kernelspec": {
   "display_name": "Python 3",
   "language": "python",
   "name": "python3"
  },
  "language_info": {
   "codemirror_mode": {
    "name": "ipython",
    "version": 2
   },
   "file_extension": ".py",
   "mimetype": "text/x-python",
   "name": "python",
   "nbconvert_exporter": "python",
   "pygments_lexer": "ipython2",
   "version": "2.7.6"
  }
 },
 "nbformat": 4,
 "nbformat_minor": 5
}
