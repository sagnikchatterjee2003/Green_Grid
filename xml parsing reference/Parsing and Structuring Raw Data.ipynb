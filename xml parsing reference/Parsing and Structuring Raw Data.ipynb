{
 "cells": [
  {
   "cell_type": "code",
   "execution_count": 5,
   "id": "484821ae",
   "metadata": {},
   "outputs": [],
   "source": [
    "# IOT ---> Raw data --> XML --> CSV --> database"
   ]
  },
  {
   "cell_type": "code",
   "execution_count": null,
   "id": "39910680",
   "metadata": {},
   "outputs": [],
   "source": [
    "# converting from raw data to the xml file format for easy shairng and processing"
   ]
  },
  {
   "cell_type": "code",
   "execution_count": null,
   "id": "dc7980e4",
   "metadata": {},
   "outputs": [],
   "source": [
    "import xml.etree.ElementTree as ET\n",
    "\n",
    "# Read the raw log lines\n",
    "with open(\"raw_meter_logs.txt\", \"r\") as f:\n",
    "    lines = f.readlines()\n"
   ]
  },
  {
   "cell_type": "code",
   "execution_count": 2,
   "id": "855b43b2",
   "metadata": {},
   "outputs": [],
   "source": [
    "# Create the root of the XML\n",
    "root = ET.Element(\"ConsumptionData\")"
   ]
  },
  {
   "cell_type": "code",
   "execution_count": 3,
   "id": "40ff9f98",
   "metadata": {},
   "outputs": [],
   "source": [
    "# Process each log line\n",
    "for line in lines:\n",
    "    parts = line.strip().split(\" | \")\n",
    "    if len(parts) != 5:\n",
    "        continue  # skip malformed lines\n",
    "\n",
    "    log_id, customer_id, meter_id, zone_id, units_consumed = parts\n",
    "\n",
    "    entry = ET.SubElement(root, \"Entry\")\n",
    "\n",
    "    ET.SubElement(entry, \"CustomerID\").text = customer_id\n",
    "    ET.SubElement(entry, \"MeterID\").text = meter_id\n",
    "    ET.SubElement(entry, \"ZoneID\").text = zone_id\n",
    "    ET.SubElement(entry, \"LogID\").text = log_id\n",
    "    ET.SubElement(entry, \"UnitsConsumed\").text = units_consumed"
   ]
  },
  {
   "cell_type": "code",
   "execution_count": 4,
   "id": "8a176513",
   "metadata": {},
   "outputs": [
    {
     "name": "stdout",
     "output_type": "stream",
     "text": [
      " XML file 'consumption_data_from_raw.xml' generated from raw logs.\n"
     ]
    }
   ],
   "source": [
    "# Write to XML file\n",
    "tree = ET.ElementTree(root)\n",
    "tree.write(\"consumption_data_from_raw.xml\", encoding=\"utf-8\", xml_declaration=True)\n",
    "\n",
    "print(\" XML file 'consumption_data_from_raw.xml' generated from raw logs.\")\n"
   ]
  },
  {
   "cell_type": "code",
   "execution_count": null,
   "id": "7132de5e",
   "metadata": {},
   "outputs": [],
   "source": [
    "# converting from xml to csv format for easy processing"
   ]
  },
  {
   "cell_type": "code",
   "execution_count": 6,
   "id": "5230cf48",
   "metadata": {},
   "outputs": [],
   "source": [
    "import xml.etree.ElementTree as ET\n",
    "import pandas as pd\n",
    "\n"
   ]
  },
  {
   "cell_type": "code",
   "execution_count": 7,
   "id": "15f8eb79",
   "metadata": {},
   "outputs": [],
   "source": [
    "tree = ET.parse('Downloads/consumption_data.xml')\n",
    "root = tree.getroot()\n"
   ]
  },
  {
   "cell_type": "code",
   "execution_count": 8,
   "id": "b6797d13",
   "metadata": {},
   "outputs": [],
   "source": [
    "\n",
    "data = []\n",
    "for entry in root.findall('Entry'):\n",
    "    record = {\n",
    "        'customer_id': entry.find('CustomerID').text,\n",
    "        'meter_id': entry.find('MeterID').text,\n",
    "        'zone_id': entry.find('ZoneID').text,\n",
    "        'log_id': entry.find('LogID').text,\n",
    "        'units_consumed': entry.find('UnitsConsumed').text\n",
    "    }\n",
    "    data.append(record)\n",
    "\n",
    "\n"
   ]
  },
  {
   "cell_type": "code",
   "execution_count": 9,
   "id": "c963159b",
   "metadata": {},
   "outputs": [],
   "source": [
    "\n",
    "# Convert to DataFrame\n",
    "df = pd.DataFrame(data)"
   ]
  },
  {
   "cell_type": "code",
   "execution_count": 10,
   "id": "ca676af0",
   "metadata": {},
   "outputs": [
    {
     "name": "stdout",
     "output_type": "stream",
     "text": [
      " CSV file generated successfully: consumption_data_converted.csv\n"
     ]
    }
   ],
   "source": [
    "\n",
    "# Save to CSV\n",
    "df.to_csv('consumption_data_converted.csv', index=False)\n",
    "\n",
    "print(\" CSV file generated successfully: consumption_data_converted.csv\")\n"
   ]
  },
  {
   "cell_type": "code",
   "execution_count": null,
   "id": "2955cf31",
   "metadata": {},
   "outputs": [],
   "source": []
  }
 ],
 "metadata": {
  "kernelspec": {
   "display_name": "Python (MySQL Working)",
   "language": "python",
   "name": "mysqltest"
  },
  "language_info": {
   "codemirror_mode": {
    "name": "ipython",
    "version": 3
   },
   "file_extension": ".py",
   "mimetype": "text/x-python",
   "name": "python",
   "nbconvert_exporter": "python",
   "pygments_lexer": "ipython3",
   "version": "3.10.18"
  }
 },
 "nbformat": 4,
 "nbformat_minor": 5
}
