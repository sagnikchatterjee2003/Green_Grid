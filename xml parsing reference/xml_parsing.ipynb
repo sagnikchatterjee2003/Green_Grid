{
 "cells": [
  {
   "cell_type": "code",
   "execution_count": null,
   "id": "initial_id",
   "metadata": {
    "collapsed": true
   },
   "outputs": [],
   "source": [
    "import xml.etree.ElementTree as ET\n",
    "from db_config import get_connection"
   ]
  },
  {
   "metadata": {},
   "cell_type": "markdown",
   "source": "Loading the xml file",
   "id": "787a9abdf0eded94"
  },
  {
   "metadata": {},
   "cell_type": "code",
   "outputs": [],
   "execution_count": null,
   "source": [
    "with open(\"smart_meter_logs.xml\", \"r\") as file:\n",
    "    xml_data = file.read()"
   ],
   "id": "5b974ca9562290a3"
  },
  {
   "metadata": {},
   "cell_type": "markdown",
   "source": "Database Connection",
   "id": "c409657ab8b7ea6"
  },
  {
   "metadata": {},
   "cell_type": "code",
   "outputs": [],
   "execution_count": null,
   "source": [
    "root = ET.fromstring(xml_data)\n",
    "conn = get_connection()\n",
    "cursor = conn.cursor()"
   ],
   "id": "9db40225502f78ac"
  },
  {
   "metadata": {},
   "cell_type": "markdown",
   "source": "Parsing the Inserting XML data into the database",
   "id": "6c0f2ace6d220696"
  },
  {
   "metadata": {},
   "cell_type": "code",
   "outputs": [],
   "execution_count": null,
   "source": [
    "for idx, log in enumerate(root.findall('log'), start=1):\n",
    "    meter_id = int(log.find('meter_id').text)\n",
    "    date = log.find('date').text\n",
    "    time_val = log.find('time').text\n",
    "    units = float(log.find('units').text)\n",
    "    log_id = f\"xml_log_{idx}\"\n",
    "\n",
    "    cursor.execute(\"\"\"\n",
    "        INSERT INTO consumption (log_id, meter_id, reading_date, reading_time, units_consumed)\n",
    "        VALUES (%s, %s, %s, %s, %s)\n",
    "    \"\"\", (log_id, meter_id, date, time_val, units))\n",
    "\n",
    "conn.commit()\n",
    "cursor.close()\n",
    "conn.close()\n",
    "print(\"XML data parsed and inserted successfully.\")"
   ],
   "id": "858d46c731330849"
  }
 ],
 "metadata": {
  "kernelspec": {
   "display_name": "Python 3",
   "language": "python",
   "name": "python3"
  },
  "language_info": {
   "codemirror_mode": {
    "name": "ipython",
    "version": 2
   },
   "file_extension": ".py",
   "mimetype": "text/x-python",
   "name": "python",
   "nbconvert_exporter": "python",
   "pygments_lexer": "ipython2",
   "version": "2.7.6"
  }
 },
 "nbformat": 4,
 "nbformat_minor": 5
}
